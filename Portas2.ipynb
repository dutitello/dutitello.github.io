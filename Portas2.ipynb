{
 "cells": [
  {
   "cell_type": "code",
   "execution_count": 2,
   "metadata": {},
   "outputs": [
    {
     "output_type": "stream",
     "name": "stdout",
     "text": "----\nResultado aqui deve ser 3:\n3\n3\n3\n3\n3\n3\n3\n3\n3\n3\n3\n3\n3\n3\n3\n----\nResultado aqui deve ser 1 ou 3:\n3\n3\n1\n3\n1\n1\n3\n1\n3\n3\n3\n1\n3\n1\n1\n----\nResultado aqui deve ser 2:\n2\n2\n2\n2\n2\n2\n2\n2\n2\n2\n2\n2\n2\n2\n2\n"
    }
   ],
   "source": [
    "import numpy as np\n",
    "\n",
    "# Quantas portas?\n",
    "nDoors = 3\n",
    "# Possíveis portas\n",
    "doors = np.array(range(1,1+nDoors))\n",
    "\n",
    "# Porta aberta pelo apresentador, não mostrando carro nem abrindo a escolhida\n",
    "def showman_door(notpossible):\n",
    "    # Pego as portas possíveis, removo a premiada e a escolhida, e então sorteio uma nova.\n",
    "    # Caso entre sem ser um vetor numpy\n",
    "    notpossible = np.array(notpossible)\n",
    "    # Nova porta\n",
    "    newDoor = np.random.choice(np.delete(doors, np.where(np.isin(doors, notpossible))))\n",
    "    return newDoor\n",
    "\n",
    "# Testa resultados:\n",
    "print('----')\n",
    "print('Resultado aqui deve ser 3:')\n",
    "for i in range(15):\n",
    "    print(showman_door([1,2]))\n",
    "    pass\n",
    "\n",
    "print('----')\n",
    "print('Resultado aqui deve ser 1 ou 3:')\n",
    "for i in range(15):\n",
    "    print(showman_door([2,2]))\n",
    "    pass\n",
    "\n",
    "print('----')\n",
    "print('Resultado aqui deve ser 2:')\n",
    "for i in range(15):\n",
    "    print(showman_door([1,3]))\n",
    "    pass"
   ]
  },
  {
   "cell_type": "code",
   "execution_count": null,
   "metadata": {},
   "outputs": [],
   "source": []
  }
 ],
 "metadata": {
  "language_info": {
   "codemirror_mode": {
    "name": "ipython",
    "version": 3
   },
   "file_extension": ".py",
   "mimetype": "text/x-python",
   "name": "python",
   "nbconvert_exporter": "python",
   "pygments_lexer": "ipython3",
   "version": "3.7.6-final"
  },
  "orig_nbformat": 2,
  "kernelspec": {
   "name": "python3",
   "display_name": "Python 3"
  }
 },
 "nbformat": 4,
 "nbformat_minor": 2
}