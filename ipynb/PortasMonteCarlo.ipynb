{
 "cells": [
  {
   "cell_type": "markdown",
   "metadata": {},
   "source": [
    "# Jogo das portas\n",
    "Você está num programa de televisão onde deve escolher uma porta entre três, em apenas uma delas há um premio. Vamos chamar as portas de 1, 2 e 3. Você escolhe a porta 1, então o apresentar abre a porta 2 onde não há premio algum, logo o premio está na porta 1 ou 3.\n",
    "\n",
    "Agora vem a questão: Você deve mudar de porta? Alguns dizem que: quando a primeira porta é escolhida existem 3 opções, logo a probabilidade de escolher a porta correta é 1/3, já, mudando de porta após a abertura da primeira, existem 2 portas e então a probabilidade de escolher a porta correta é 1/2. E agora? Bora rodar simulações de Monte Carlo pra ver o que acontece."
   ]
  },
  {
   "cell_type": "markdown",
   "metadata": {},
   "source": [
    "Importando as bibliotecas"
   ]
  },
  {
   "cell_type": "code",
   "execution_count": 1,
   "metadata": {},
   "outputs": [],
   "source": [
    "import numpy as np"
   ]
  },
  {
   "cell_type": "markdown",
   "metadata": {},
   "source": [
    "Construindo uma função para fazer isso com parametros:\n",
    "* Ns: Número de simulações por ciclo\n",
    "* Ncicl: Número de ciclos\n",
    "* MudaP: Mudar de porta?\n",
    "\n",
    "Agora temos o seguinte: mantendo a primeira porta basta sortear qual das três terá o premio, qual é escolhida e ver o resultado. \n",
    "Agora mudando a porta temos o seguinte: como o \"apresentador\" mostra sempre uma porta que não tem premio e não foi escolhida ele faz com que os resultados possíveis sejam: certo ou errado, com isso, se a porta é alterada temos que o certo vira errado e vice versa pois só temos duas opções!"
   ]
  },
  {
   "cell_type": "code",
   "execution_count": 2,
   "metadata": {},
   "outputs": [],
   "source": [
    "def Simula(Ns=1000, Ncicl=10, MudaP=False):\n",
    "    # Inicia acertos como 0\n",
    "    acertos = 0\n",
    "\n",
    "    # Roda ciclos\n",
    "    for i in range(1, Ncicl-1):\n",
    "        # Gera portas escolhidas e premiadas\n",
    "        porta = np.random.randint(low=1, high=3+1, size=Ns)\n",
    "        premio = np.random.randint(low=1, high=3+1, size=Ns)\n",
    "\n",
    "        # Mudança de porta\n",
    "        if MudaP == False:\n",
    "            # Sem mudar porta: basta verificar\n",
    "            # Se está correto seta 1, se não é 0\n",
    "            testa = np.where(porta == premio, 1, 0)\n",
    "        else:\n",
    "            # Abre terceira porta que é errada, sobram apenas duas,\n",
    "            # logo, se estava errado agora está certo e vice versa.\n",
    "            testa = np.where(porta != premio, 1, 0)\n",
    "\n",
    "        # Resultado é a soma do array\n",
    "        acertos += np.sum(testa)\n",
    "    \n",
    "    # Determina taxa de acertos\n",
    "    taxa = acertos/(Ncicl*Ns) \n",
    "\n",
    "    # Printa resultados\n",
    "    return print(\"Taxa de acertos com MudaP={} e {:1.3e} simulações: {:.3f}.\".format(MudaP,Ncicl*Ns,taxa))"
   ]
  },
  {
   "cell_type": "code",
   "execution_count": 3,
   "metadata": {},
   "outputs": [
    {
     "output_type": "stream",
     "name": "stdout",
     "text": "Taxa de acertos com MudaP=False e 5.000e+07 simulações: 0.333.\nTaxa de acertos com MudaP=True e 5.000e+07 simulações: 0.667.\n"
    }
   ],
   "source": [
    "Simula(Ns=5000, Ncicl=10000, MudaP=False)\n",
    "Simula(Ns=5000, Ncicl=10000, MudaP=True)"
   ]
  },
  {
   "cell_type": "markdown",
   "metadata": {},
   "source": [
    "### Qual sentido disso?\n",
    "Aparentemente isso está relacionado ao Teorema de Bayes $P(A|B)=\\frac{P(B|A)P(A)}{P(B)}$ que pode ser reescrito pela lei da probabilidade total como \n",
    "$P(A)=\\sum_{i=1}^n{P(A\\cap B_i)}$ ou $P(A)=\\sum_{i=1}^n{P(A|B_i)P(B_i)}$.\n",
    "\n",
    "Inicialmente temos 3 opções de portas (A, B, C) com mesma probabilidade de acerto (1/3). Com o avanço do jogo uma porta não premiada e não escolhida é aberta, alterando a distribuição do problema. \n",
    "\n",
    "E agora?\n"
   ]
  }
 ],
 "metadata": {
  "language_info": {
   "codemirror_mode": {
    "name": "ipython",
    "version": 3
   },
   "file_extension": ".py",
   "mimetype": "text/x-python",
   "name": "python",
   "nbconvert_exporter": "python",
   "pygments_lexer": "ipython3",
   "version": "3.7.6-final"
  },
  "orig_nbformat": 2,
  "kernelspec": {
   "name": "python3",
   "display_name": "Python 3"
  }
 },
 "nbformat": 4,
 "nbformat_minor": 2
}
